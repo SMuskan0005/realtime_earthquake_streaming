{
 "cells": [
  {
   "cell_type": "code",
   "execution_count": 9,
   "id": "165f27b5-f436-490c-b477-d3ea8a5fde26",
   "metadata": {},
   "outputs": [
    {
     "name": "stdout",
     "output_type": "stream",
     "text": [
      "Requirement already satisfied: kafka-python in ./my-jupyter-env/lib/python3.13/site-packages (2.2.15)\n",
      "Note: you may need to restart the kernel to use updated packages.\n"
     ]
    }
   ],
   "source": [
    "pip install kafka-python\n"
   ]
  },
  {
   "cell_type": "code",
   "execution_count": 2,
   "id": "54304e27-77db-4908-9561-b30df44acace",
   "metadata": {},
   "outputs": [
    {
     "name": "stdout",
     "output_type": "stream",
     "text": [
      "Requirement already satisfied: pandas in ./my-jupyter-env/lib/python3.13/site-packages (2.3.1)\n",
      "Requirement already satisfied: numpy>=1.26.0 in ./my-jupyter-env/lib/python3.13/site-packages (from pandas) (2.3.1)\n",
      "Requirement already satisfied: python-dateutil>=2.8.2 in ./my-jupyter-env/lib/python3.13/site-packages (from pandas) (2.9.0.post0)\n",
      "Requirement already satisfied: pytz>=2020.1 in ./my-jupyter-env/lib/python3.13/site-packages (from pandas) (2025.2)\n",
      "Requirement already satisfied: tzdata>=2022.7 in ./my-jupyter-env/lib/python3.13/site-packages (from pandas) (2025.2)\n",
      "Requirement already satisfied: six>=1.5 in ./my-jupyter-env/lib/python3.13/site-packages (from python-dateutil>=2.8.2->pandas) (1.17.0)\n",
      "Note: you may need to restart the kernel to use updated packages.\n"
     ]
    }
   ],
   "source": [
    "pip install pandas\n"
   ]
  },
  {
   "cell_type": "markdown",
   "id": "ce2d6cab-be34-4d85-acc5-41d952469834",
   "metadata": {},
   "source": [
    "we need to create object for kafka producer"
   ]
  },
  {
   "cell_type": "code",
   "execution_count": 3,
   "id": "4d5c8d94-39f1-4afc-b043-262153d1345b",
   "metadata": {},
   "outputs": [
    {
     "name": "stdout",
     "output_type": "stream",
     "text": [
      "Requirement already satisfied: boto3 in ./my-jupyter-env/lib/python3.13/site-packages (1.39.10)\n",
      "Requirement already satisfied: botocore<1.40.0,>=1.39.10 in ./my-jupyter-env/lib/python3.13/site-packages (from boto3) (1.39.10)\n",
      "Requirement already satisfied: jmespath<2.0.0,>=0.7.1 in ./my-jupyter-env/lib/python3.13/site-packages (from boto3) (1.0.1)\n",
      "Requirement already satisfied: s3transfer<0.14.0,>=0.13.0 in ./my-jupyter-env/lib/python3.13/site-packages (from boto3) (0.13.1)\n",
      "Requirement already satisfied: python-dateutil<3.0.0,>=2.1 in ./my-jupyter-env/lib/python3.13/site-packages (from botocore<1.40.0,>=1.39.10->boto3) (2.9.0.post0)\n",
      "Requirement already satisfied: urllib3!=2.2.0,<3,>=1.25.4 in ./my-jupyter-env/lib/python3.13/site-packages (from botocore<1.40.0,>=1.39.10->boto3) (2.5.0)\n",
      "Requirement already satisfied: six>=1.5 in ./my-jupyter-env/lib/python3.13/site-packages (from python-dateutil<3.0.0,>=2.1->botocore<1.40.0,>=1.39.10->boto3) (1.17.0)\n",
      "Note: you may need to restart the kernel to use updated packages.\n"
     ]
    }
   ],
   "source": [
    "pip install boto3"
   ]
  },
  {
   "cell_type": "code",
   "execution_count": 8,
   "id": "13fa8a90-a190-4b00-af1e-3f6b0bba1bc1",
   "metadata": {},
   "outputs": [
    {
     "name": "stdout",
     "output_type": "stream",
     "text": [
      "Requirement already satisfied: requests in ./my-jupyter-env/lib/python3.13/site-packages (2.32.4)\n",
      "Requirement already satisfied: charset_normalizer<4,>=2 in ./my-jupyter-env/lib/python3.13/site-packages (from requests) (3.4.2)\n",
      "Requirement already satisfied: idna<4,>=2.5 in ./my-jupyter-env/lib/python3.13/site-packages (from requests) (3.10)\n",
      "Requirement already satisfied: urllib3<3,>=1.21.1 in ./my-jupyter-env/lib/python3.13/site-packages (from requests) (2.5.0)\n",
      "Requirement already satisfied: certifi>=2017.4.17 in ./my-jupyter-env/lib/python3.13/site-packages (from requests) (2025.7.14)\n",
      "Note: you may need to restart the kernel to use updated packages.\n"
     ]
    }
   ],
   "source": [
    "pip install requests\n"
   ]
  },
  {
   "cell_type": "code",
   "execution_count": 1,
   "id": "26e62a0a-817e-49a7-bedd-98bd75473630",
   "metadata": {},
   "outputs": [
    {
     "name": "stdout",
     "output_type": "stream",
     "text": [
      "Starting earthquake producer...\n"
     ]
    },
    {
     "ename": "KafkaTimeoutError",
     "evalue": "KafkaTimeoutError: Failed to update metadata after 60.0 secs.",
     "output_type": "error",
     "traceback": [
      "\u001b[31m---------------------------------------------------------------------------\u001b[39m",
      "\u001b[31mKafkaTimeoutError\u001b[39m                         Traceback (most recent call last)",
      "\u001b[36mCell\u001b[39m\u001b[36m \u001b[39m\u001b[32mIn[1]\u001b[39m\u001b[32m, line 34\u001b[39m\n\u001b[32m     25\u001b[39m \u001b[38;5;28;01mif\u001b[39;00m earthquake_id \u001b[38;5;129;01mnot\u001b[39;00m \u001b[38;5;129;01min\u001b[39;00m processed_ids:\n\u001b[32m     26\u001b[39m     \u001b[38;5;66;03m# Simple earthquake data\u001b[39;00m\n\u001b[32m     27\u001b[39m     data = {\n\u001b[32m     28\u001b[39m         \u001b[33m'\u001b[39m\u001b[33mid\u001b[39m\u001b[33m'\u001b[39m: earthquake_id,\n\u001b[32m     29\u001b[39m         \u001b[33m'\u001b[39m\u001b[33mmagnitude\u001b[39m\u001b[33m'\u001b[39m: earthquake[\u001b[33m'\u001b[39m\u001b[33mproperties\u001b[39m\u001b[33m'\u001b[39m][\u001b[33m'\u001b[39m\u001b[33mmag\u001b[39m\u001b[33m'\u001b[39m],\n\u001b[32m     30\u001b[39m         \u001b[33m'\u001b[39m\u001b[33mplace\u001b[39m\u001b[33m'\u001b[39m: earthquake[\u001b[33m'\u001b[39m\u001b[33mproperties\u001b[39m\u001b[33m'\u001b[39m][\u001b[33m'\u001b[39m\u001b[33mplace\u001b[39m\u001b[33m'\u001b[39m],\n\u001b[32m     31\u001b[39m         \u001b[33m'\u001b[39m\u001b[33mtime\u001b[39m\u001b[33m'\u001b[39m: earthquake[\u001b[33m'\u001b[39m\u001b[33mproperties\u001b[39m\u001b[33m'\u001b[39m][\u001b[33m'\u001b[39m\u001b[33mtime\u001b[39m\u001b[33m'\u001b[39m]\n\u001b[32m     32\u001b[39m     }\n\u001b[32m---> \u001b[39m\u001b[32m34\u001b[39m     \u001b[43mproducer\u001b[49m\u001b[43m.\u001b[49m\u001b[43msend\u001b[49m\u001b[43m(\u001b[49m\u001b[33;43m'\u001b[39;49m\u001b[33;43mearthquakes-events2\u001b[39;49m\u001b[33;43m'\u001b[39;49m\u001b[43m,\u001b[49m\u001b[43m \u001b[49m\u001b[43mdata\u001b[49m\u001b[43m)\u001b[49m\n\u001b[32m     35\u001b[39m     processed_ids.add(earthquake_id)\n\u001b[32m     36\u001b[39m     \u001b[38;5;28mprint\u001b[39m(\u001b[33mf\u001b[39m\u001b[33m\"\u001b[39m\u001b[33mSent: \u001b[39m\u001b[38;5;132;01m{\u001b[39;00mearthquake_id\u001b[38;5;132;01m}\u001b[39;00m\u001b[33m - Mag: \u001b[39m\u001b[38;5;132;01m{\u001b[39;00mdata[\u001b[33m'\u001b[39m\u001b[33mmagnitude\u001b[39m\u001b[33m'\u001b[39m]\u001b[38;5;132;01m}\u001b[39;00m\u001b[33m\"\u001b[39m)\n",
      "\u001b[36mFile \u001b[39m\u001b[32m~/my-jupyter-env/lib/python3.13/site-packages/kafka/producer/kafka.py:840\u001b[39m, in \u001b[36mKafkaProducer.send\u001b[39m\u001b[34m(self, topic, value, key, headers, partition, timestamp_ms)\u001b[39m\n\u001b[32m    838\u001b[39m assigned_partition = \u001b[38;5;28;01mNone\u001b[39;00m\n\u001b[32m    839\u001b[39m \u001b[38;5;28;01mwhile\u001b[39;00m assigned_partition \u001b[38;5;129;01mis\u001b[39;00m \u001b[38;5;28;01mNone\u001b[39;00m \u001b[38;5;129;01mand\u001b[39;00m \u001b[38;5;129;01mnot\u001b[39;00m timer.expired:\n\u001b[32m--> \u001b[39m\u001b[32m840\u001b[39m     \u001b[38;5;28;43mself\u001b[39;49m\u001b[43m.\u001b[49m\u001b[43m_wait_on_metadata\u001b[49m\u001b[43m(\u001b[49m\u001b[43mtopic\u001b[49m\u001b[43m,\u001b[49m\u001b[43m \u001b[49m\u001b[43mtimer\u001b[49m\u001b[43m.\u001b[49m\u001b[43mtimeout_ms\u001b[49m\u001b[43m)\u001b[49m\n\u001b[32m    842\u001b[39m     key_bytes = \u001b[38;5;28mself\u001b[39m._serialize(\n\u001b[32m    843\u001b[39m         \u001b[38;5;28mself\u001b[39m.config[\u001b[33m'\u001b[39m\u001b[33mkey_serializer\u001b[39m\u001b[33m'\u001b[39m],\n\u001b[32m    844\u001b[39m         topic, key)\n\u001b[32m    845\u001b[39m     value_bytes = \u001b[38;5;28mself\u001b[39m._serialize(\n\u001b[32m    846\u001b[39m         \u001b[38;5;28mself\u001b[39m.config[\u001b[33m'\u001b[39m\u001b[33mvalue_serializer\u001b[39m\u001b[33m'\u001b[39m],\n\u001b[32m    847\u001b[39m         topic, value)\n",
      "\u001b[36mFile \u001b[39m\u001b[32m~/my-jupyter-env/lib/python3.13/site-packages/kafka/producer/kafka.py:964\u001b[39m, in \u001b[36mKafkaProducer._wait_on_metadata\u001b[39m\u001b[34m(self, topic, max_wait_ms)\u001b[39m\n\u001b[32m    962\u001b[39m metadata_event.wait(timer.timeout_ms / \u001b[32m1000\u001b[39m)\n\u001b[32m    963\u001b[39m \u001b[38;5;28;01mif\u001b[39;00m \u001b[38;5;129;01mnot\u001b[39;00m future.is_done:\n\u001b[32m--> \u001b[39m\u001b[32m964\u001b[39m     \u001b[38;5;28;01mraise\u001b[39;00m Errors.KafkaTimeoutError(\n\u001b[32m    965\u001b[39m         \u001b[33m\"\u001b[39m\u001b[33mFailed to update metadata after \u001b[39m\u001b[38;5;132;01m%.1f\u001b[39;00m\u001b[33m secs.\u001b[39m\u001b[33m\"\u001b[39m % (max_wait_ms / \u001b[32m1000\u001b[39m,))\n\u001b[32m    966\u001b[39m \u001b[38;5;28;01melif\u001b[39;00m future.failed() \u001b[38;5;129;01mand\u001b[39;00m \u001b[38;5;129;01mnot\u001b[39;00m future.retriable():\n\u001b[32m    967\u001b[39m     \u001b[38;5;28;01mraise\u001b[39;00m future.exception\n",
      "\u001b[31mKafkaTimeoutError\u001b[39m: KafkaTimeoutError: Failed to update metadata after 60.0 secs."
     ]
    }
   ],
   "source": [
    "from kafka import KafkaProducer\n",
    "import json\n",
    "import requests\n",
    "import time\n",
    "\n",
    "# Simple configuration\n",
    "producer = KafkaProducer(\n",
    "    bootstrap_servers=['15.207.54.208:9092'],\n",
    "    value_serializer=lambda v: json.dumps(v).encode('utf-8')\n",
    ")\n",
    "\n",
    "processed_ids = set()\n",
    "\n",
    "print(\"Starting earthquake producer...\")\n",
    "\n",
    "while True:\n",
    "    # Get earthquake data\n",
    "    response = requests.get(\"https://earthquake.usgs.gov/earthquakes/feed/v1.0/summary/all_hour.geojson\")\n",
    "    earthquakes = response.json()['features']\n",
    "    \n",
    "    # Send new earthquakes\n",
    "    for earthquake in earthquakes:\n",
    "        earthquake_id = earthquake['id']\n",
    "        \n",
    "        if earthquake_id not in processed_ids:\n",
    "            # Simple earthquake data\n",
    "            data = {\n",
    "                'id': earthquake_id,\n",
    "                'magnitude': earthquake['properties']['mag'],\n",
    "                'place': earthquake['properties']['place'],\n",
    "                'time': earthquake['properties']['time']\n",
    "            }\n",
    "            \n",
    "            producer.send('earthquakes-events2', data)\n",
    "            processed_ids.add(earthquake_id)\n",
    "            print(f\"Sent: {earthquake_id} - Mag: {data['magnitude']}\")\n",
    "    \n",
    "    # Keep memory low\n",
    "    if len(processed_ids) > 1000:\n",
    "        processed_ids = set(list(processed_ids)[-500:])\n",
    "    \n",
    "    print(\"Waiting 5 minutes...\")\n",
    "    time.sleep(300)"
   ]
  },
  {
   "cell_type": "code",
   "execution_count": 4,
   "id": "cb9b6ad2-4204-4871-b354-9704a440bf43",
   "metadata": {},
   "outputs": [
    {
     "name": "stdout",
     "output_type": "stream",
     "text": [
      "Sent: {'type': 'Feature', 'properties': {'mag': 0.3, 'place': '63 km WNW of Tyonek, Alaska', 'time': 1753611183517, 'updated': 1753611286627, 'tz': None, 'url': 'https://earthquake.usgs.gov/earthquakes/eventpage/ak0259k5tbcf', 'detail': 'https://earthquake.usgs.gov/earthquakes/feed/v1.0/detail/ak0259k5tbcf.geojson', 'felt': None, 'cdi': None, 'mmi': None, 'alert': None, 'status': 'automatic', 'tsunami': 0, 'sig': 1, 'net': 'ak', 'code': '0259k5tbcf', 'ids': ',ak0259k5tbcf,', 'sources': ',ak,', 'types': ',origin,phase-data,', 'nst': None, 'dmin': None, 'rms': 0.11, 'gap': None, 'magType': 'ml', 'type': 'earthquake', 'title': 'M 0.3 - 63 km WNW of Tyonek, Alaska'}, 'geometry': {'type': 'Point', 'coordinates': [-152.244, 61.2633, 6.1]}, 'id': 'ak0259k5tbcf'}\n",
      "Sent: {'type': 'Feature', 'properties': {'mag': 0.7, 'place': '13 km NNE of Cabazon, CA', 'time': 1753611149100, 'updated': 1753611393589, 'tz': None, 'url': 'https://earthquake.usgs.gov/earthquakes/eventpage/ci41033503', 'detail': 'https://earthquake.usgs.gov/earthquakes/feed/v1.0/detail/ci41033503.geojson', 'felt': None, 'cdi': None, 'mmi': None, 'alert': None, 'status': 'automatic', 'tsunami': 0, 'sig': 8, 'net': 'ci', 'code': '41033503', 'ids': ',ci41033503,', 'sources': ',ci,', 'types': ',nearby-cities,origin,phase-data,scitech-link,', 'nst': 38, 'dmin': 0.04945, 'rms': 0.19, 'gap': 59, 'magType': 'ml', 'type': 'earthquake', 'title': 'M 0.7 - 13 km NNE of Cabazon, CA'}, 'geometry': {'type': 'Point', 'coordinates': [-116.7488333, 34.0281667, 17.68]}, 'id': 'ci41033503'}\n",
      "Sent: {'type': 'Feature', 'properties': {'mag': 1.94, 'place': '21 km ESE of Naalehu, Hawaii', 'time': 1753610977260, 'updated': 1753611172160, 'tz': None, 'url': 'https://earthquake.usgs.gov/earthquakes/eventpage/hv74736622', 'detail': 'https://earthquake.usgs.gov/earthquakes/feed/v1.0/detail/hv74736622.geojson', 'felt': None, 'cdi': None, 'mmi': None, 'alert': None, 'status': 'automatic', 'tsunami': 0, 'sig': 58, 'net': 'hv', 'code': '74736622', 'ids': ',hv74736622,', 'sources': ',hv,', 'types': ',origin,phase-data,', 'nst': 49, 'dmin': 0.1525, 'rms': 0.140000001, 'gap': 214, 'magType': 'ml', 'type': 'earthquake', 'title': 'M 1.9 - 21 km ESE of Naalehu, Hawaii'}, 'geometry': {'type': 'Point', 'coordinates': [-155.375671386719, 19.0259990692139, 32.6500015258789]}, 'id': 'hv74736622'}\n",
      "Sent: {'type': 'Feature', 'properties': {'mag': 0.3, 'place': '63 km WNW of Tyonek, Alaska', 'time': 1753611183517, 'updated': 1753611286627, 'tz': None, 'url': 'https://earthquake.usgs.gov/earthquakes/eventpage/ak0259k5tbcf', 'detail': 'https://earthquake.usgs.gov/earthquakes/feed/v1.0/detail/ak0259k5tbcf.geojson', 'felt': None, 'cdi': None, 'mmi': None, 'alert': None, 'status': 'automatic', 'tsunami': 0, 'sig': 1, 'net': 'ak', 'code': '0259k5tbcf', 'ids': ',ak0259k5tbcf,', 'sources': ',ak,', 'types': ',origin,phase-data,', 'nst': None, 'dmin': None, 'rms': 0.11, 'gap': None, 'magType': 'ml', 'type': 'earthquake', 'title': 'M 0.3 - 63 km WNW of Tyonek, Alaska'}, 'geometry': {'type': 'Point', 'coordinates': [-152.244, 61.2633, 6.1]}, 'id': 'ak0259k5tbcf'}\n",
      "Sent: {'type': 'Feature', 'properties': {'mag': 0.7, 'place': '13 km NNE of Cabazon, CA', 'time': 1753611149100, 'updated': 1753611393589, 'tz': None, 'url': 'https://earthquake.usgs.gov/earthquakes/eventpage/ci41033503', 'detail': 'https://earthquake.usgs.gov/earthquakes/feed/v1.0/detail/ci41033503.geojson', 'felt': None, 'cdi': None, 'mmi': None, 'alert': None, 'status': 'automatic', 'tsunami': 0, 'sig': 8, 'net': 'ci', 'code': '41033503', 'ids': ',ci41033503,', 'sources': ',ci,', 'types': ',nearby-cities,origin,phase-data,scitech-link,', 'nst': 38, 'dmin': 0.04945, 'rms': 0.19, 'gap': 59, 'magType': 'ml', 'type': 'earthquake', 'title': 'M 0.7 - 13 km NNE of Cabazon, CA'}, 'geometry': {'type': 'Point', 'coordinates': [-116.7488333, 34.0281667, 17.68]}, 'id': 'ci41033503'}\n",
      "Sent: {'type': 'Feature', 'properties': {'mag': 1.94, 'place': '21 km ESE of Naalehu, Hawaii', 'time': 1753610977260, 'updated': 1753611172160, 'tz': None, 'url': 'https://earthquake.usgs.gov/earthquakes/eventpage/hv74736622', 'detail': 'https://earthquake.usgs.gov/earthquakes/feed/v1.0/detail/hv74736622.geojson', 'felt': None, 'cdi': None, 'mmi': None, 'alert': None, 'status': 'automatic', 'tsunami': 0, 'sig': 58, 'net': 'hv', 'code': '74736622', 'ids': ',hv74736622,', 'sources': ',hv,', 'types': ',origin,phase-data,', 'nst': 49, 'dmin': 0.1525, 'rms': 0.140000001, 'gap': 214, 'magType': 'ml', 'type': 'earthquake', 'title': 'M 1.9 - 21 km ESE of Naalehu, Hawaii'}, 'geometry': {'type': 'Point', 'coordinates': [-155.375671386719, 19.0259990692139, 32.6500015258789]}, 'id': 'hv74736622'}\n",
      "Sent: {'type': 'Feature', 'properties': {'mag': 0.3, 'place': '63 km WNW of Tyonek, Alaska', 'time': 1753611183517, 'updated': 1753611286627, 'tz': None, 'url': 'https://earthquake.usgs.gov/earthquakes/eventpage/ak0259k5tbcf', 'detail': 'https://earthquake.usgs.gov/earthquakes/feed/v1.0/detail/ak0259k5tbcf.geojson', 'felt': None, 'cdi': None, 'mmi': None, 'alert': None, 'status': 'automatic', 'tsunami': 0, 'sig': 1, 'net': 'ak', 'code': '0259k5tbcf', 'ids': ',ak0259k5tbcf,', 'sources': ',ak,', 'types': ',origin,phase-data,', 'nst': None, 'dmin': None, 'rms': 0.11, 'gap': None, 'magType': 'ml', 'type': 'earthquake', 'title': 'M 0.3 - 63 km WNW of Tyonek, Alaska'}, 'geometry': {'type': 'Point', 'coordinates': [-152.244, 61.2633, 6.1]}, 'id': 'ak0259k5tbcf'}\n",
      "Sent: {'type': 'Feature', 'properties': {'mag': 0.7, 'place': '13 km NNE of Cabazon, CA', 'time': 1753611149100, 'updated': 1753611393589, 'tz': None, 'url': 'https://earthquake.usgs.gov/earthquakes/eventpage/ci41033503', 'detail': 'https://earthquake.usgs.gov/earthquakes/feed/v1.0/detail/ci41033503.geojson', 'felt': None, 'cdi': None, 'mmi': None, 'alert': None, 'status': 'automatic', 'tsunami': 0, 'sig': 8, 'net': 'ci', 'code': '41033503', 'ids': ',ci41033503,', 'sources': ',ci,', 'types': ',nearby-cities,origin,phase-data,scitech-link,', 'nst': 38, 'dmin': 0.04945, 'rms': 0.19, 'gap': 59, 'magType': 'ml', 'type': 'earthquake', 'title': 'M 0.7 - 13 km NNE of Cabazon, CA'}, 'geometry': {'type': 'Point', 'coordinates': [-116.7488333, 34.0281667, 17.68]}, 'id': 'ci41033503'}\n",
      "Sent: {'type': 'Feature', 'properties': {'mag': 1.94, 'place': '21 km ESE of Naalehu, Hawaii', 'time': 1753610977260, 'updated': 1753611172160, 'tz': None, 'url': 'https://earthquake.usgs.gov/earthquakes/eventpage/hv74736622', 'detail': 'https://earthquake.usgs.gov/earthquakes/feed/v1.0/detail/hv74736622.geojson', 'felt': None, 'cdi': None, 'mmi': None, 'alert': None, 'status': 'automatic', 'tsunami': 0, 'sig': 58, 'net': 'hv', 'code': '74736622', 'ids': ',hv74736622,', 'sources': ',hv,', 'types': ',origin,phase-data,', 'nst': 49, 'dmin': 0.1525, 'rms': 0.140000001, 'gap': 214, 'magType': 'ml', 'type': 'earthquake', 'title': 'M 1.9 - 21 km ESE of Naalehu, Hawaii'}, 'geometry': {'type': 'Point', 'coordinates': [-155.375671386719, 19.0259990692139, 32.6500015258789]}, 'id': 'hv74736622'}\n",
      "Sent: {'type': 'Feature', 'properties': {'mag': 0.3, 'place': '63 km WNW of Tyonek, Alaska', 'time': 1753611183517, 'updated': 1753611286627, 'tz': None, 'url': 'https://earthquake.usgs.gov/earthquakes/eventpage/ak0259k5tbcf', 'detail': 'https://earthquake.usgs.gov/earthquakes/feed/v1.0/detail/ak0259k5tbcf.geojson', 'felt': None, 'cdi': None, 'mmi': None, 'alert': None, 'status': 'automatic', 'tsunami': 0, 'sig': 1, 'net': 'ak', 'code': '0259k5tbcf', 'ids': ',ak0259k5tbcf,', 'sources': ',ak,', 'types': ',origin,phase-data,', 'nst': None, 'dmin': None, 'rms': 0.11, 'gap': None, 'magType': 'ml', 'type': 'earthquake', 'title': 'M 0.3 - 63 km WNW of Tyonek, Alaska'}, 'geometry': {'type': 'Point', 'coordinates': [-152.244, 61.2633, 6.1]}, 'id': 'ak0259k5tbcf'}\n",
      "Sent: {'type': 'Feature', 'properties': {'mag': 0.7, 'place': '13 km NNE of Cabazon, CA', 'time': 1753611149100, 'updated': 1753611393589, 'tz': None, 'url': 'https://earthquake.usgs.gov/earthquakes/eventpage/ci41033503', 'detail': 'https://earthquake.usgs.gov/earthquakes/feed/v1.0/detail/ci41033503.geojson', 'felt': None, 'cdi': None, 'mmi': None, 'alert': None, 'status': 'automatic', 'tsunami': 0, 'sig': 8, 'net': 'ci', 'code': '41033503', 'ids': ',ci41033503,', 'sources': ',ci,', 'types': ',nearby-cities,origin,phase-data,scitech-link,', 'nst': 38, 'dmin': 0.04945, 'rms': 0.19, 'gap': 59, 'magType': 'ml', 'type': 'earthquake', 'title': 'M 0.7 - 13 km NNE of Cabazon, CA'}, 'geometry': {'type': 'Point', 'coordinates': [-116.7488333, 34.0281667, 17.68]}, 'id': 'ci41033503'}\n",
      "Sent: {'type': 'Feature', 'properties': {'mag': 1.94, 'place': '21 km ESE of Naalehu, Hawaii', 'time': 1753610977260, 'updated': 1753611172160, 'tz': None, 'url': 'https://earthquake.usgs.gov/earthquakes/eventpage/hv74736622', 'detail': 'https://earthquake.usgs.gov/earthquakes/feed/v1.0/detail/hv74736622.geojson', 'felt': None, 'cdi': None, 'mmi': None, 'alert': None, 'status': 'automatic', 'tsunami': 0, 'sig': 58, 'net': 'hv', 'code': '74736622', 'ids': ',hv74736622,', 'sources': ',hv,', 'types': ',origin,phase-data,', 'nst': 49, 'dmin': 0.1525, 'rms': 0.140000001, 'gap': 214, 'magType': 'ml', 'type': 'earthquake', 'title': 'M 1.9 - 21 km ESE of Naalehu, Hawaii'}, 'geometry': {'type': 'Point', 'coordinates': [-155.375671386719, 19.0259990692139, 32.6500015258789]}, 'id': 'hv74736622'}\n"
     ]
    },
    {
     "ename": "KeyboardInterrupt",
     "evalue": "",
     "output_type": "error",
     "traceback": [
      "\u001b[31m---------------------------------------------------------------------------\u001b[39m",
      "\u001b[31mKeyboardInterrupt\u001b[39m                         Traceback (most recent call last)",
      "\u001b[36mCell\u001b[39m\u001b[36m \u001b[39m\u001b[32mIn[4]\u001b[39m\u001b[32m, line 31\u001b[39m\n\u001b[32m     29\u001b[39m     \u001b[38;5;28;01melse\u001b[39;00m:\n\u001b[32m     30\u001b[39m         \u001b[38;5;28mprint\u001b[39m(\u001b[33m\"\u001b[39m\u001b[33mNo data fetched.\u001b[39m\u001b[33m\"\u001b[39m)\n\u001b[32m---> \u001b[39m\u001b[32m31\u001b[39m     \u001b[43msleep\u001b[49m\u001b[43m(\u001b[49m\u001b[32;43m10\u001b[39;49m\u001b[43m)\u001b[49m  \u001b[38;5;66;03m# Pause before next API fetch\u001b[39;00m\n\u001b[32m     33\u001b[39m producer.flush()\n",
      "\u001b[31mKeyboardInterrupt\u001b[39m: "
     ]
    }
   ],
   "source": [
    "import requests\n",
    "from kafka import KafkaProducer\n",
    "from json import dumps\n",
    "from time import sleep\n",
    "\n",
    "producer = KafkaProducer(\n",
    "    bootstrap_servers=['13.126.75.47:9092'],  # Put your EC2 Public IP\n",
    "    value_serializer=lambda x: dumps(x).encode('utf-8'),\n",
    "    request_timeout_ms=30000,\n",
    "    retry_backoff_ms=500\n",
    ")\n",
    "\n",
    "def fetch_api_data():\n",
    "    \n",
    "    url = \"https://earthquake.usgs.gov/earthquakes/feed/v1.0/summary/all_hour.geojson\"  # Example earthquake API\n",
    "    response = requests.get(url)\n",
    "    if response.status_code == 200:\n",
    "        data = response.json()\n",
    "        return data['features']\n",
    "    return []\n",
    "\n",
    "while True:\n",
    "    data = fetch_api_data()\n",
    "    if data:\n",
    "        for item in data[:3]:  # Just send 3 items to avoid overloading Kafka\n",
    "            producer.send('demo_test27', value=item) \n",
    "            print(\"Sent:\", item)\n",
    "            sleep(1)\n",
    "    else:\n",
    "        print(\"No data fetched.\")\n",
    "    sleep(10)  # Pause before next API fetch\n",
    "\n",
    "producer.flush()"
   ]
  },
  {
   "cell_type": "code",
   "execution_count": null,
   "id": "47596868-df42-4f2a-8caf-aa4226bc90db",
   "metadata": {},
   "outputs": [],
   "source": []
  },
  {
   "cell_type": "code",
   "execution_count": null,
   "id": "15021cc6-99c2-4cac-b402-27625d8bb783",
   "metadata": {},
   "outputs": [],
   "source": []
  }
 ],
 "metadata": {
  "kernelspec": {
   "display_name": "Python 3 (ipykernel)",
   "language": "python",
   "name": "python3"
  },
  "language_info": {
   "codemirror_mode": {
    "name": "ipython",
    "version": 3
   },
   "file_extension": ".py",
   "mimetype": "text/x-python",
   "name": "python",
   "nbconvert_exporter": "python",
   "pygments_lexer": "ipython3",
   "version": "3.13.3"
  }
 },
 "nbformat": 4,
 "nbformat_minor": 5
}
